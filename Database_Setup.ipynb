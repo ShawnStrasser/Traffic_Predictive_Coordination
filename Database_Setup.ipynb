{
 "cells": [
  {
   "cell_type": "markdown",
   "metadata": {},
   "source": [
    "# Create the Database\n",
    "This notebook creates the database used by the app to store data. This step is required before running the app.\n",
    "\n",
    "### Set up Database Schema (DuckDB)\n",
    "Tables: <br>\n",
    "    - Volumes - store controller volumes <br>\n",
    "    - Occupancies - store controller occupancies<br>\n",
    "    - Logs - store event/error logs<br>\n",
    "    - Signals - list of traffic signals in corridor<br>\n",
    "    Note that Signals contains a column \"detectors\" which is a list of detector numbers from that signal that will be used. Storing detector numbers like this is not a best practice, but works for now. <br>\n",
    "    - Settings - track user settings<br>"
   ]
  },
  {
   "cell_type": "code",
   "execution_count": 1,
   "metadata": {},
   "outputs": [
    {
     "data": {
      "text/plain": [
       "<duckdb.duckdb.DuckDBPyConnection at 0x2a32e7bf130>"
      ]
     },
     "execution_count": 1,
     "metadata": {},
     "output_type": "execute_result"
    }
   ],
   "source": [
    "import duckdb\n",
    "\n",
    "# Set interval period (in minutes, as a string)\n",
    "interval = '5'\n",
    "\n",
    "# Create new database with DuckDB\n",
    "con = duckdb.connect(database='database.db', read_only=False)\n",
    "\n",
    "# Create tables. Timestamps are set to the current time interval when the data is inserted.\n",
    "\n",
    "# Volumes table\n",
    "con.execute(f\"\"\"\n",
    "            CREATE OR REPLACE TABLE Volumes (\n",
    "                signal VARCHAR, \n",
    "                detector UTINYINT, \n",
    "                timestamp DATETIME DEFAULT time_bucket(INTERVAL '{interval} minutes', current_timestamp::TIMESTAMP),\n",
    "                volume USMALLINT\n",
    "            )\n",
    "            \"\"\")\n",
    "# Occupancies table\n",
    "con.execute(f\"\"\"\n",
    "            CREATE OR REPLACE TABLE Occupancies (\n",
    "                signal VARCHAR, \n",
    "                detector UTINYINT, \n",
    "                timestamp DATETIME DEFAULT time_bucket(INTERVAL '{interval} minutes', current_timestamp::TIMESTAMP),\n",
    "                occupancy FLOAT\n",
    "            )\n",
    "            \"\"\")\n",
    "# Logs table\n",
    "con.execute(\"\"\"CREATE OR REPLACE TABLE Logs (\n",
    "                timestamp DATETIME DEFAULT current_timestamp::TIMESTAMP,\n",
    "                event VARCHAR,\n",
    "                message VARCHAR\n",
    "            )\n",
    "            \"\"\")\n",
    "# Signals table\n",
    "con.execute(\"\"\"CREATE OR REPLACE TABLE Signals (\n",
    "                signal VARCHAR PRIMARY KEY, \n",
    "                ip VARCHAR, \n",
    "                detectors VARCHAR, \n",
    "                UNIQUE(ip)\n",
    "            )\n",
    "            \"\"\")\n",
    "# Settings table\n",
    "con.execute(\"\"\"CREATE OR REPLACE TABLE Settings (\n",
    "                setting VARCHAR PRIMARY KEY,\n",
    "                value VARCHAR\n",
    "            )\n",
    "            \"\"\")"
   ]
  },
  {
   "cell_type": "markdown",
   "metadata": {},
   "source": [
    "Populate tables with default values and traffic signals"
   ]
  },
  {
   "cell_type": "code",
   "execution_count": 2,
   "metadata": {},
   "outputs": [
    {
     "data": {
      "text/plain": [
       "┌──────────┬────────────────────┐\n",
       "│ setting  │       value        │\n",
       "│ varchar  │      varchar       │\n",
       "├──────────┼────────────────────┤\n",
       "│ interval │ 5                  │\n",
       "│ mode     │ Traffic Predictive │\n",
       "│ debug    │ True               │\n",
       "│ run_app  │ True               │\n",
       "└──────────┴────────────────────┘"
      ]
     },
     "execution_count": 2,
     "metadata": {},
     "output_type": "execute_result"
    }
   ],
   "source": [
    "# Insert default settings\n",
    "con.execute(f\"INSERT INTO Settings VALUES ('interval', '{interval}')\") # Minutes between each update, should match controller detector zone interval\n",
    "con.execute(\"INSERT INTO Settings VALUES ('mode', 'Traffic Predictive')\") # default mode of operation\n",
    "con.execute(\"INSERT INTO Settings VALUES ('debug', 'True')\") # default debug mode\n",
    "con.execute(\"INSERT INTO Settings VALUES ('run_app', 'True')\") # default run app mode\n",
    "\n",
    "con.query(\"SELECT * FROM Settings\")"
   ]
  },
  {
   "cell_type": "code",
   "execution_count": 3,
   "metadata": {},
   "outputs": [
    {
     "data": {
      "text/plain": [
       "┌───────────┬────────────────┬───────────┐\n",
       "│  signal   │       ip       │ detectors │\n",
       "│  varchar  │    varchar     │  varchar  │\n",
       "├───────────┼────────────────┼───────────┤\n",
       "│ OR34_15th │ 167.131.144.85 │ 2,16      │\n",
       "│ OR34_53rd │ 167.131.144.88 │ 2,16      │\n",
       "└───────────┴────────────────┴───────────┘"
      ]
     },
     "execution_count": 3,
     "metadata": {},
     "output_type": "execute_result"
    }
   ],
   "source": [
    "# Insert traffic signals\n",
    "con.execute(\"INSERT INTO Signals VALUES ('OR34_15th', '167.131.144.85', '2,16')\") # 1,2,3 are the detector numbers\n",
    "con.execute(\"INSERT INTO Signals VALUES ('OR34_53rd', '167.131.144.88', '2,16')\") # 1,2,3 are the detector numbers\n",
    "\n",
    "con.query(\"SELECT * FROM Signals\")"
   ]
  },
  {
   "cell_type": "code",
   "execution_count": 8,
   "metadata": {},
   "outputs": [],
   "source": [
    "con.close()"
   ]
  },
  {
   "cell_type": "code",
   "execution_count": 13,
   "metadata": {},
   "outputs": [],
   "source": [
    "# read volume tabel\n",
    "with duckdb.connect(database='database.db', read_only=False) as con:\n",
    "    # drop volume table rows where timestamp = '2024-01-08 14:30:00'\n",
    "    con.execute(\"DELETE FROM Occupancies WHERE timestamp = '2024-01-08 14:30:00'\")"
   ]
  }
 ],
 "metadata": {
  "kernelspec": {
   "display_name": "deep_learn",
   "language": "python",
   "name": "python3"
  },
  "language_info": {
   "codemirror_mode": {
    "name": "ipython",
    "version": 3
   },
   "file_extension": ".py",
   "mimetype": "text/x-python",
   "name": "python",
   "nbconvert_exporter": "python",
   "pygments_lexer": "ipython3",
   "version": "3.11.1"
  }
 },
 "nbformat": 4,
 "nbformat_minor": 2
}
